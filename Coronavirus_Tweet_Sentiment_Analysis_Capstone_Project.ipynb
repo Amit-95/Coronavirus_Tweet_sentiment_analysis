{
  "nbformat": 4,
  "nbformat_minor": 0,
  "metadata": {
    "kernelspec": {
      "display_name": "Python 3",
      "language": "python",
      "name": "python3"
    },
    "language_info": {
      "codemirror_mode": {
        "name": "ipython",
        "version": 3
      },
      "file_extension": ".py",
      "mimetype": "text/x-python",
      "name": "python",
      "nbconvert_exporter": "python",
      "pygments_lexer": "ipython3",
      "version": "3.6.6"
    },
    "colab": {
      "provenance": [],
      "include_colab_link": true
    }
  },
  "cells": [
    {
      "cell_type": "markdown",
      "metadata": {
        "id": "view-in-github",
        "colab_type": "text"
      },
      "source": [
        "<a href=\"https://colab.research.google.com/github/Amit-95/Coronavirus_Tweet_sentiment_analysis/blob/main/Coronavirus_Tweet_Sentiment_Analysis_Capstone_Project.ipynb\" target=\"_parent\"><img src=\"https://colab.research.google.com/assets/colab-badge.svg\" alt=\"Open In Colab\"/></a>"
      ]
    },
    {
      "cell_type": "markdown",
      "metadata": {
        "id": "tOGC-qoyhJeX"
      },
      "source": [
        "# <b><u> Project Title : Sentiment Analysis : Predicting sentiment of COVID-19 tweets</u></b>"
      ]
    },
    {
      "cell_type": "markdown",
      "metadata": {
        "id": "Y06xIdG26kRF"
      },
      "source": [
        "## <b> Problem Description </b>\n",
        "\n",
        "### This challenge asks you to build a classification model to predict the sentiment of COVID-19 tweets.The tweets have been pulled from Twitter and manual tagging has been done then.\n",
        "\n",
        "### The names and usernames have been given codes to avoid any privacy concerns.\n",
        "\n",
        "### You are given the following information:\n",
        "1. Location\n",
        "2. Tweet At\n",
        "3. Original Tweet\n",
        "4. Label"
      ]
    },
    {
      "cell_type": "markdown",
      "source": [
        "## Import Libraries and Data"
      ],
      "metadata": {
        "id": "dV9I6Nh8xxEL"
      }
    },
    {
      "cell_type": "code",
      "metadata": {
        "id": "dByMsuzT8Tnw",
        "colab": {
          "base_uri": "https://localhost:8080/"
        },
        "outputId": "dbf42bac-b393-4639-9ca9-f5f3add2c39b"
      },
      "source": [
        "# Import necessary libraries\n",
        "\n",
        "import pandas as pd\n",
        "import numpy as np\n",
        "from numpy import math\n",
        "pd.pandas.set_option('display.max_columns',None)\n",
        "\n",
        "import seaborn as sns\n",
        "import matplotlib.pyplot as plt\n",
        "%matplotlib inline\n",
        "%load_ext google.colab.data_table\n",
        "\n",
        "import re # for regular expressions\n",
        "import string\n",
        "import nltk\n",
        "nltk.download('stopwords')\n",
        "from nltk.corpus import stopwords\n",
        "stop_word = stopwords.words('english') # load stop words\n",
        "import nltk # for text manipulation\n",
        "from nltk.stem.porter import *\n",
        "from sklearn.feature_extraction.text import TfidfVectorizer, CountVectorizer\n",
        "from tqdm import tqdm\n",
        "import gensim\n",
        "\n",
        "from scipy import stats \n",
        "from sklearn import metrics \n",
        "from sklearn.metrics import mean_squared_error,mean_absolute_error\n",
        "from sklearn.metrics import make_scorer,classification_report,confusion_matrix\n",
        "from sklearn.metrics import accuracy_score,roc_auc_score,roc_curve\n",
        "from sklearn.model_selection import train_test_split,cross_val_score,KFold\n",
        "from sklearn.metrics import f1_score\n",
        "\n",
        "from sklearn.naive_bayes import MultinomialNB\n",
        "from sklearn.linear_model import SGDClassifier\n",
        "from sklearn.ensemble import RandomForestClassifier\n",
        "from sklearn.svm import SVC\n",
        "from sklearn.linear_model import LogisticRegression\n",
        "\n",
        "import warnings\n",
        "warnings.filterwarnings(\"ignore\")"
      ],
      "execution_count": 1,
      "outputs": [
        {
          "output_type": "stream",
          "name": "stderr",
          "text": [
            "[nltk_data] Downloading package stopwords to /root/nltk_data...\n",
            "[nltk_data]   Unzipping corpora/stopwords.zip.\n"
          ]
        }
      ]
    },
    {
      "cell_type": "markdown",
      "source": [
        "***Load Data from the file coronavirus_tweets.csv***"
      ],
      "metadata": {
        "id": "RdVVdprByXpP"
      }
    },
    {
      "cell_type": "code",
      "source": [
        "from google.colab import drive\n",
        "drive.mount('/content/drive')"
      ],
      "metadata": {
        "colab": {
          "base_uri": "https://localhost:8080/"
        },
        "id": "27Owta1Wykg-",
        "outputId": "da14b9eb-c9af-4c12-b9ce-cda08f15c949"
      },
      "execution_count": 2,
      "outputs": [
        {
          "output_type": "stream",
          "name": "stdout",
          "text": [
            "Mounted at /content/drive\n"
          ]
        }
      ]
    },
    {
      "cell_type": "code",
      "source": [
        "# Read the csv file\n",
        "data=pd.read_csv(\"/content/drive/MyDrive/Colab Notebooks/Corona_virus_tweet_analysis_caps_proj/Coronavirus Tweets.csv\",encoding='ISO-8859-1')"
      ],
      "metadata": {
        "id": "4SNJbHRsyD5b"
      },
      "execution_count": 3,
      "outputs": []
    },
    {
      "cell_type": "markdown",
      "source": [
        "**First Look**"
      ],
      "metadata": {
        "id": "dSXSU1Zny8td"
      }
    },
    {
      "cell_type": "code",
      "source": [
        "#First 5 values\n",
        "data.head()"
      ],
      "metadata": {
        "colab": {
          "base_uri": "https://localhost:8080/",
          "height": 328
        },
        "id": "HbN6oD62y5rX",
        "outputId": "fa8edcad-3d55-45aa-f51f-f7c384201523"
      },
      "execution_count": 4,
      "outputs": [
        {
          "output_type": "execute_result",
          "data": {
            "text/plain": [
              "   UserName  ScreenName   Location     TweetAt  \\\n",
              "0      3799       48751     London  16-03-2020   \n",
              "1      3800       48752         UK  16-03-2020   \n",
              "2      3801       48753  Vagabonds  16-03-2020   \n",
              "3      3802       48754        NaN  16-03-2020   \n",
              "4      3803       48755        NaN  16-03-2020   \n",
              "\n",
              "                                       OriginalTweet           Sentiment  \n",
              "0  @MeNyrbie @Phil_Gahan @Chrisitv https://t.co/i...             Neutral  \n",
              "1  advice Talk to your neighbours family to excha...            Positive  \n",
              "2  Coronavirus Australia: Woolworths to give elde...            Positive  \n",
              "3  My food stock is not the only one which is emp...            Positive  \n",
              "4  Me, ready to go at supermarket during the #COV...  Extremely Negative  "
            ],
            "text/html": [
              "\n",
              "  <div id=\"df-1ca0d4a2-5c19-4aac-89ff-81417c331375\">\n",
              "    <div class=\"colab-df-container\">\n",
              "      <div>\n",
              "<style scoped>\n",
              "    .dataframe tbody tr th:only-of-type {\n",
              "        vertical-align: middle;\n",
              "    }\n",
              "\n",
              "    .dataframe tbody tr th {\n",
              "        vertical-align: top;\n",
              "    }\n",
              "\n",
              "    .dataframe thead th {\n",
              "        text-align: right;\n",
              "    }\n",
              "</style>\n",
              "<table border=\"1\" class=\"dataframe\">\n",
              "  <thead>\n",
              "    <tr style=\"text-align: right;\">\n",
              "      <th></th>\n",
              "      <th>UserName</th>\n",
              "      <th>ScreenName</th>\n",
              "      <th>Location</th>\n",
              "      <th>TweetAt</th>\n",
              "      <th>OriginalTweet</th>\n",
              "      <th>Sentiment</th>\n",
              "    </tr>\n",
              "  </thead>\n",
              "  <tbody>\n",
              "    <tr>\n",
              "      <th>0</th>\n",
              "      <td>3799</td>\n",
              "      <td>48751</td>\n",
              "      <td>London</td>\n",
              "      <td>16-03-2020</td>\n",
              "      <td>@MeNyrbie @Phil_Gahan @Chrisitv https://t.co/i...</td>\n",
              "      <td>Neutral</td>\n",
              "    </tr>\n",
              "    <tr>\n",
              "      <th>1</th>\n",
              "      <td>3800</td>\n",
              "      <td>48752</td>\n",
              "      <td>UK</td>\n",
              "      <td>16-03-2020</td>\n",
              "      <td>advice Talk to your neighbours family to excha...</td>\n",
              "      <td>Positive</td>\n",
              "    </tr>\n",
              "    <tr>\n",
              "      <th>2</th>\n",
              "      <td>3801</td>\n",
              "      <td>48753</td>\n",
              "      <td>Vagabonds</td>\n",
              "      <td>16-03-2020</td>\n",
              "      <td>Coronavirus Australia: Woolworths to give elde...</td>\n",
              "      <td>Positive</td>\n",
              "    </tr>\n",
              "    <tr>\n",
              "      <th>3</th>\n",
              "      <td>3802</td>\n",
              "      <td>48754</td>\n",
              "      <td>NaN</td>\n",
              "      <td>16-03-2020</td>\n",
              "      <td>My food stock is not the only one which is emp...</td>\n",
              "      <td>Positive</td>\n",
              "    </tr>\n",
              "    <tr>\n",
              "      <th>4</th>\n",
              "      <td>3803</td>\n",
              "      <td>48755</td>\n",
              "      <td>NaN</td>\n",
              "      <td>16-03-2020</td>\n",
              "      <td>Me, ready to go at supermarket during the #COV...</td>\n",
              "      <td>Extremely Negative</td>\n",
              "    </tr>\n",
              "  </tbody>\n",
              "</table>\n",
              "</div>\n",
              "      <button class=\"colab-df-convert\" onclick=\"convertToInteractive('df-1ca0d4a2-5c19-4aac-89ff-81417c331375')\"\n",
              "              title=\"Convert this dataframe to an interactive table.\"\n",
              "              style=\"display:none;\">\n",
              "        \n",
              "  <svg xmlns=\"http://www.w3.org/2000/svg\" height=\"24px\"viewBox=\"0 0 24 24\"\n",
              "       width=\"24px\">\n",
              "    <path d=\"M0 0h24v24H0V0z\" fill=\"none\"/>\n",
              "    <path d=\"M18.56 5.44l.94 2.06.94-2.06 2.06-.94-2.06-.94-.94-2.06-.94 2.06-2.06.94zm-11 1L8.5 8.5l.94-2.06 2.06-.94-2.06-.94L8.5 2.5l-.94 2.06-2.06.94zm10 10l.94 2.06.94-2.06 2.06-.94-2.06-.94-.94-2.06-.94 2.06-2.06.94z\"/><path d=\"M17.41 7.96l-1.37-1.37c-.4-.4-.92-.59-1.43-.59-.52 0-1.04.2-1.43.59L10.3 9.45l-7.72 7.72c-.78.78-.78 2.05 0 2.83L4 21.41c.39.39.9.59 1.41.59.51 0 1.02-.2 1.41-.59l7.78-7.78 2.81-2.81c.8-.78.8-2.07 0-2.86zM5.41 20L4 18.59l7.72-7.72 1.47 1.35L5.41 20z\"/>\n",
              "  </svg>\n",
              "      </button>\n",
              "      \n",
              "  <style>\n",
              "    .colab-df-container {\n",
              "      display:flex;\n",
              "      flex-wrap:wrap;\n",
              "      gap: 12px;\n",
              "    }\n",
              "\n",
              "    .colab-df-convert {\n",
              "      background-color: #E8F0FE;\n",
              "      border: none;\n",
              "      border-radius: 50%;\n",
              "      cursor: pointer;\n",
              "      display: none;\n",
              "      fill: #1967D2;\n",
              "      height: 32px;\n",
              "      padding: 0 0 0 0;\n",
              "      width: 32px;\n",
              "    }\n",
              "\n",
              "    .colab-df-convert:hover {\n",
              "      background-color: #E2EBFA;\n",
              "      box-shadow: 0px 1px 2px rgba(60, 64, 67, 0.3), 0px 1px 3px 1px rgba(60, 64, 67, 0.15);\n",
              "      fill: #174EA6;\n",
              "    }\n",
              "\n",
              "    [theme=dark] .colab-df-convert {\n",
              "      background-color: #3B4455;\n",
              "      fill: #D2E3FC;\n",
              "    }\n",
              "\n",
              "    [theme=dark] .colab-df-convert:hover {\n",
              "      background-color: #434B5C;\n",
              "      box-shadow: 0px 1px 3px 1px rgba(0, 0, 0, 0.15);\n",
              "      filter: drop-shadow(0px 1px 2px rgba(0, 0, 0, 0.3));\n",
              "      fill: #FFFFFF;\n",
              "    }\n",
              "  </style>\n",
              "\n",
              "      <script>\n",
              "        const buttonEl =\n",
              "          document.querySelector('#df-1ca0d4a2-5c19-4aac-89ff-81417c331375 button.colab-df-convert');\n",
              "        buttonEl.style.display =\n",
              "          google.colab.kernel.accessAllowed ? 'block' : 'none';\n",
              "\n",
              "        async function convertToInteractive(key) {\n",
              "          const element = document.querySelector('#df-1ca0d4a2-5c19-4aac-89ff-81417c331375');\n",
              "          const dataTable =\n",
              "            await google.colab.kernel.invokeFunction('convertToInteractive',\n",
              "                                                     [key], {});\n",
              "          if (!dataTable) return;\n",
              "\n",
              "          const docLinkHtml = 'Like what you see? Visit the ' +\n",
              "            '<a target=\"_blank\" href=https://colab.research.google.com/notebooks/data_table.ipynb>data table notebook</a>'\n",
              "            + ' to learn more about interactive tables.';\n",
              "          element.innerHTML = '';\n",
              "          dataTable['output_type'] = 'display_data';\n",
              "          await google.colab.output.renderOutput(dataTable, element);\n",
              "          const docLink = document.createElement('div');\n",
              "          docLink.innerHTML = docLinkHtml;\n",
              "          element.appendChild(docLink);\n",
              "        }\n",
              "      </script>\n",
              "    </div>\n",
              "  </div>\n",
              "  "
            ],
            "application/vnd.google.colaboratory.module+javascript": "\n      import \"https://ssl.gstatic.com/colaboratory/data_table/fb998edc550c7947/data_table.js\";\n\n      window.createDataTable({\n        data: [[{\n            'v': 0,\n            'f': \"0\",\n        },\n{\n            'v': 3799,\n            'f': \"3799\",\n        },\n{\n            'v': 48751,\n            'f': \"48751\",\n        },\n\"London\",\n\"16-03-2020\",\n\"@MeNyrbie @Phil_Gahan @Chrisitv https://t.co/iFz9FAn2Pa and https://t.co/xX6ghGFzCC and https://t.co/I2NlzdxNo8\",\n\"Neutral\"],\n [{\n            'v': 1,\n            'f': \"1\",\n        },\n{\n            'v': 3800,\n            'f': \"3800\",\n        },\n{\n            'v': 48752,\n            'f': \"48752\",\n        },\n\"UK\",\n\"16-03-2020\",\n\"advice Talk to your neighbours family to exchange phone numbers create contact list with phone numbers of neighbours schools employer chemist GP set up online shopping accounts if poss adequate supplies of regular meds but not over order\",\n\"Positive\"],\n [{\n            'v': 2,\n            'f': \"2\",\n        },\n{\n            'v': 3801,\n            'f': \"3801\",\n        },\n{\n            'v': 48753,\n            'f': \"48753\",\n        },\n\"Vagabonds\",\n\"16-03-2020\",\n\"Coronavirus Australia: Woolworths to give elderly, disabled dedicated shopping hours amid COVID-19 outbreak https://t.co/bInCA9Vp8P\",\n\"Positive\"],\n [{\n            'v': 3,\n            'f': \"3\",\n        },\n{\n            'v': 3802,\n            'f': \"3802\",\n        },\n{\n            'v': 48754,\n            'f': \"48754\",\n        },\nNaN,\n\"16-03-2020\",\n\"My food stock is not the only one which is empty...\\r\\r\\n\\r\\r\\nPLEASE, don't panic, THERE WILL BE ENOUGH FOOD FOR EVERYONE if you do not take more than you need. \\r\\r\\nStay calm, stay safe.\\r\\r\\n\\r\\r\\n#COVID19france #COVID_19 #COVID19 #coronavirus #confinement #Confinementotal #ConfinementGeneral https://t.co/zrlG0Z520j\",\n\"Positive\"],\n [{\n            'v': 4,\n            'f': \"4\",\n        },\n{\n            'v': 3803,\n            'f': \"3803\",\n        },\n{\n            'v': 48755,\n            'f': \"48755\",\n        },\nNaN,\n\"16-03-2020\",\n\"Me, ready to go at supermarket during the #COVID19 outbreak.\\r\\r\\n\\r\\r\\nNot because I'm paranoid, but because my food stock is litteraly empty. The #coronavirus is a serious thing, but please, don't panic. It causes shortage...\\r\\r\\n\\r\\r\\n#CoronavirusFrance #restezchezvous #StayAtHome #confinement https://t.co/usmuaLq72n\",\n\"Extremely Negative\"]],\n        columns: [[\"number\", \"index\"], [\"number\", \"UserName\"], [\"number\", \"ScreenName\"], [\"string\", \"Location\"], [\"string\", \"TweetAt\"], [\"string\", \"OriginalTweet\"], [\"string\", \"Sentiment\"]],\n        columnOptions: [{\"width\": \"1px\", \"className\": \"index_column\"}],\n        rowsPerPage: 25,\n        helpUrl: \"https://colab.research.google.com/notebooks/data_table.ipynb\",\n        suppressOutputScrolling: true,\n        minimumWidth: undefined,\n      });\n    "
          },
          "metadata": {},
          "execution_count": 4
        }
      ]
    },
    {
      "cell_type": "code",
      "source": [
        "\n",
        "# Last 5 values.\n",
        "data.tail()"
      ],
      "metadata": {
        "colab": {
          "base_uri": "https://localhost:8080/",
          "height": 295
        },
        "id": "ScOcOU5nzHdE",
        "outputId": "67ecd24a-5174-40b5-be7b-3ccbef913c83"
      },
      "execution_count": 5,
      "outputs": [
        {
          "output_type": "execute_result",
          "data": {
            "text/plain": [
              "       UserName  ScreenName                      Location     TweetAt  \\\n",
              "41152     44951       89903  Wellington City, New Zealand  14-04-2020   \n",
              "41153     44952       89904                           NaN  14-04-2020   \n",
              "41154     44953       89905                           NaN  14-04-2020   \n",
              "41155     44954       89906                           NaN  14-04-2020   \n",
              "41156     44955       89907  i love you so much || he/him  14-04-2020   \n",
              "\n",
              "                                           OriginalTweet           Sentiment  \n",
              "41152  Airline pilots offering to stock supermarket s...             Neutral  \n",
              "41153  Response to complaint not provided citing COVI...  Extremely Negative  \n",
              "41154  You know itÂs getting tough when @KameronWild...            Positive  \n",
              "41155  Is it wrong that the smell of hand sanitizer i...             Neutral  \n",
              "41156  @TartiiCat Well new/used Rift S are going for ...            Negative  "
            ],
            "text/html": [
              "\n",
              "  <div id=\"df-bce89872-7697-4005-851b-8c0e1306f4b6\">\n",
              "    <div class=\"colab-df-container\">\n",
              "      <div>\n",
              "<style scoped>\n",
              "    .dataframe tbody tr th:only-of-type {\n",
              "        vertical-align: middle;\n",
              "    }\n",
              "\n",
              "    .dataframe tbody tr th {\n",
              "        vertical-align: top;\n",
              "    }\n",
              "\n",
              "    .dataframe thead th {\n",
              "        text-align: right;\n",
              "    }\n",
              "</style>\n",
              "<table border=\"1\" class=\"dataframe\">\n",
              "  <thead>\n",
              "    <tr style=\"text-align: right;\">\n",
              "      <th></th>\n",
              "      <th>UserName</th>\n",
              "      <th>ScreenName</th>\n",
              "      <th>Location</th>\n",
              "      <th>TweetAt</th>\n",
              "      <th>OriginalTweet</th>\n",
              "      <th>Sentiment</th>\n",
              "    </tr>\n",
              "  </thead>\n",
              "  <tbody>\n",
              "    <tr>\n",
              "      <th>41152</th>\n",
              "      <td>44951</td>\n",
              "      <td>89903</td>\n",
              "      <td>Wellington City, New Zealand</td>\n",
              "      <td>14-04-2020</td>\n",
              "      <td>Airline pilots offering to stock supermarket s...</td>\n",
              "      <td>Neutral</td>\n",
              "    </tr>\n",
              "    <tr>\n",
              "      <th>41153</th>\n",
              "      <td>44952</td>\n",
              "      <td>89904</td>\n",
              "      <td>NaN</td>\n",
              "      <td>14-04-2020</td>\n",
              "      <td>Response to complaint not provided citing COVI...</td>\n",
              "      <td>Extremely Negative</td>\n",
              "    </tr>\n",
              "    <tr>\n",
              "      <th>41154</th>\n",
              "      <td>44953</td>\n",
              "      <td>89905</td>\n",
              "      <td>NaN</td>\n",
              "      <td>14-04-2020</td>\n",
              "      <td>You know itÂs getting tough when @KameronWild...</td>\n",
              "      <td>Positive</td>\n",
              "    </tr>\n",
              "    <tr>\n",
              "      <th>41155</th>\n",
              "      <td>44954</td>\n",
              "      <td>89906</td>\n",
              "      <td>NaN</td>\n",
              "      <td>14-04-2020</td>\n",
              "      <td>Is it wrong that the smell of hand sanitizer i...</td>\n",
              "      <td>Neutral</td>\n",
              "    </tr>\n",
              "    <tr>\n",
              "      <th>41156</th>\n",
              "      <td>44955</td>\n",
              "      <td>89907</td>\n",
              "      <td>i love you so much || he/him</td>\n",
              "      <td>14-04-2020</td>\n",
              "      <td>@TartiiCat Well new/used Rift S are going for ...</td>\n",
              "      <td>Negative</td>\n",
              "    </tr>\n",
              "  </tbody>\n",
              "</table>\n",
              "</div>\n",
              "      <button class=\"colab-df-convert\" onclick=\"convertToInteractive('df-bce89872-7697-4005-851b-8c0e1306f4b6')\"\n",
              "              title=\"Convert this dataframe to an interactive table.\"\n",
              "              style=\"display:none;\">\n",
              "        \n",
              "  <svg xmlns=\"http://www.w3.org/2000/svg\" height=\"24px\"viewBox=\"0 0 24 24\"\n",
              "       width=\"24px\">\n",
              "    <path d=\"M0 0h24v24H0V0z\" fill=\"none\"/>\n",
              "    <path d=\"M18.56 5.44l.94 2.06.94-2.06 2.06-.94-2.06-.94-.94-2.06-.94 2.06-2.06.94zm-11 1L8.5 8.5l.94-2.06 2.06-.94-2.06-.94L8.5 2.5l-.94 2.06-2.06.94zm10 10l.94 2.06.94-2.06 2.06-.94-2.06-.94-.94-2.06-.94 2.06-2.06.94z\"/><path d=\"M17.41 7.96l-1.37-1.37c-.4-.4-.92-.59-1.43-.59-.52 0-1.04.2-1.43.59L10.3 9.45l-7.72 7.72c-.78.78-.78 2.05 0 2.83L4 21.41c.39.39.9.59 1.41.59.51 0 1.02-.2 1.41-.59l7.78-7.78 2.81-2.81c.8-.78.8-2.07 0-2.86zM5.41 20L4 18.59l7.72-7.72 1.47 1.35L5.41 20z\"/>\n",
              "  </svg>\n",
              "      </button>\n",
              "      \n",
              "  <style>\n",
              "    .colab-df-container {\n",
              "      display:flex;\n",
              "      flex-wrap:wrap;\n",
              "      gap: 12px;\n",
              "    }\n",
              "\n",
              "    .colab-df-convert {\n",
              "      background-color: #E8F0FE;\n",
              "      border: none;\n",
              "      border-radius: 50%;\n",
              "      cursor: pointer;\n",
              "      display: none;\n",
              "      fill: #1967D2;\n",
              "      height: 32px;\n",
              "      padding: 0 0 0 0;\n",
              "      width: 32px;\n",
              "    }\n",
              "\n",
              "    .colab-df-convert:hover {\n",
              "      background-color: #E2EBFA;\n",
              "      box-shadow: 0px 1px 2px rgba(60, 64, 67, 0.3), 0px 1px 3px 1px rgba(60, 64, 67, 0.15);\n",
              "      fill: #174EA6;\n",
              "    }\n",
              "\n",
              "    [theme=dark] .colab-df-convert {\n",
              "      background-color: #3B4455;\n",
              "      fill: #D2E3FC;\n",
              "    }\n",
              "\n",
              "    [theme=dark] .colab-df-convert:hover {\n",
              "      background-color: #434B5C;\n",
              "      box-shadow: 0px 1px 3px 1px rgba(0, 0, 0, 0.15);\n",
              "      filter: drop-shadow(0px 1px 2px rgba(0, 0, 0, 0.3));\n",
              "      fill: #FFFFFF;\n",
              "    }\n",
              "  </style>\n",
              "\n",
              "      <script>\n",
              "        const buttonEl =\n",
              "          document.querySelector('#df-bce89872-7697-4005-851b-8c0e1306f4b6 button.colab-df-convert');\n",
              "        buttonEl.style.display =\n",
              "          google.colab.kernel.accessAllowed ? 'block' : 'none';\n",
              "\n",
              "        async function convertToInteractive(key) {\n",
              "          const element = document.querySelector('#df-bce89872-7697-4005-851b-8c0e1306f4b6');\n",
              "          const dataTable =\n",
              "            await google.colab.kernel.invokeFunction('convertToInteractive',\n",
              "                                                     [key], {});\n",
              "          if (!dataTable) return;\n",
              "\n",
              "          const docLinkHtml = 'Like what you see? Visit the ' +\n",
              "            '<a target=\"_blank\" href=https://colab.research.google.com/notebooks/data_table.ipynb>data table notebook</a>'\n",
              "            + ' to learn more about interactive tables.';\n",
              "          element.innerHTML = '';\n",
              "          dataTable['output_type'] = 'display_data';\n",
              "          await google.colab.output.renderOutput(dataTable, element);\n",
              "          const docLink = document.createElement('div');\n",
              "          docLink.innerHTML = docLinkHtml;\n",
              "          element.appendChild(docLink);\n",
              "        }\n",
              "      </script>\n",
              "    </div>\n",
              "  </div>\n",
              "  "
            ],
            "application/vnd.google.colaboratory.module+javascript": "\n      import \"https://ssl.gstatic.com/colaboratory/data_table/fb998edc550c7947/data_table.js\";\n\n      window.createDataTable({\n        data: [[{\n            'v': 41152,\n            'f': \"41152\",\n        },\n{\n            'v': 44951,\n            'f': \"44951\",\n        },\n{\n            'v': 89903,\n            'f': \"89903\",\n        },\n\"Wellington City, New Zealand\",\n\"14-04-2020\",\n\"Airline pilots offering to stock supermarket shelves in #NZ lockdown #COVID-19 https://t.co/cz89uA0HNp\",\n\"Neutral\"],\n [{\n            'v': 41153,\n            'f': \"41153\",\n        },\n{\n            'v': 44952,\n            'f': \"44952\",\n        },\n{\n            'v': 89904,\n            'f': \"89904\",\n        },\nNaN,\n\"14-04-2020\",\n\"Response to complaint not provided citing COVID-19 related delays. Yet prompt in rejecting policy before consumer TAT is over. Way to go ?\",\n\"Extremely Negative\"],\n [{\n            'v': 41154,\n            'f': \"41154\",\n        },\n{\n            'v': 44953,\n            'f': \"44953\",\n        },\n{\n            'v': 89905,\n            'f': \"89905\",\n        },\nNaN,\n\"14-04-2020\",\n\"You know it\\u00c2\\u0092s getting tough when @KameronWilds  is rationing toilet paper #coronavirus #toiletpaper @kroger martinsville, help us out!!\",\n\"Positive\"],\n [{\n            'v': 41155,\n            'f': \"41155\",\n        },\n{\n            'v': 44954,\n            'f': \"44954\",\n        },\n{\n            'v': 89906,\n            'f': \"89906\",\n        },\nNaN,\n\"14-04-2020\",\n\"Is it wrong that the smell of hand sanitizer is starting to turn me on?\\r\\r\\n\\r\\r\\n#coronavirus #COVID19 #coronavirus\",\n\"Neutral\"],\n [{\n            'v': 41156,\n            'f': \"41156\",\n        },\n{\n            'v': 44955,\n            'f': \"44955\",\n        },\n{\n            'v': 89907,\n            'f': \"89907\",\n        },\n\"i love you so much || he/him\",\n\"14-04-2020\",\n\"@TartiiCat Well new/used Rift S are going for $700.00 on Amazon rn although the normal market price is usually $400.00 . Prices are really crazy right now for vr headsets since HL Alex was announced and it's only been worse with COVID-19. Up to you whethe\",\n\"Negative\"]],\n        columns: [[\"number\", \"index\"], [\"number\", \"UserName\"], [\"number\", \"ScreenName\"], [\"string\", \"Location\"], [\"string\", \"TweetAt\"], [\"string\", \"OriginalTweet\"], [\"string\", \"Sentiment\"]],\n        columnOptions: [{\"width\": \"1px\", \"className\": \"index_column\"}],\n        rowsPerPage: 25,\n        helpUrl: \"https://colab.research.google.com/notebooks/data_table.ipynb\",\n        suppressOutputScrolling: true,\n        minimumWidth: undefined,\n      });\n    "
          },
          "metadata": {},
          "execution_count": 5
        }
      ]
    },
    {
      "cell_type": "code",
      "source": [
        "\n",
        "# Check for duplicated entries.\n",
        "print(\"Duplicate entry in data:\",len(data[data.duplicated()])) "
      ],
      "metadata": {
        "colab": {
          "base_uri": "https://localhost:8080/"
        },
        "id": "IoL1HMx6zPA0",
        "outputId": "89e6d648-8834-474f-bbf2-76ec8af08dfc"
      },
      "execution_count": 6,
      "outputs": [
        {
          "output_type": "stream",
          "name": "stdout",
          "text": [
            "Duplicate entry in data: 0\n"
          ]
        }
      ]
    },
    {
      "cell_type": "code",
      "source": [
        "# Custom Function for Dtype,Unique values and Null values\n",
        "def datainfo():\n",
        "    temp_ps = pd.DataFrame(index=data.columns)\n",
        "    temp_ps['DataType'] = data.dtypes\n",
        "    temp_ps[\"Non-null_Values\"] = data.count()\n",
        "    temp_ps['Unique_Values'] = data.nunique()\n",
        "    temp_ps['NaN_Values'] = data.isnull().sum()\n",
        "    temp_ps['NaN_Values_Percentage'] = (temp_ps['NaN_Values']/len(data))*100 \n",
        "    return temp_ps"
      ],
      "metadata": {
        "id": "cP77TAjHzTyM"
      },
      "execution_count": 7,
      "outputs": []
    },
    {
      "cell_type": "code",
      "source": [
        "\n",
        "# Shape of the data.\n",
        "print(\"Total Rows and Columns in DataFrame is :\",data.shape,\"\\n\") \n",
        "# Custom Function\n",
        "datainfo()"
      ],
      "metadata": {
        "colab": {
          "base_uri": "https://localhost:8080/",
          "height": 252
        },
        "id": "-cpysEUy05c5",
        "outputId": "897083d8-d2c2-4c06-9926-e3bc4d78e191"
      },
      "execution_count": 8,
      "outputs": [
        {
          "output_type": "stream",
          "name": "stdout",
          "text": [
            "Total Rows and Columns in DataFrame is : (41157, 6) \n",
            "\n"
          ]
        },
        {
          "output_type": "execute_result",
          "data": {
            "text/plain": [
              "              DataType  Non-null_Values  Unique_Values  NaN_Values  \\\n",
              "UserName         int64            41157          41157           0   \n",
              "ScreenName       int64            41157          41157           0   \n",
              "Location        object            32567          12220        8590   \n",
              "TweetAt         object            41157             30           0   \n",
              "OriginalTweet   object            41157          41157           0   \n",
              "Sentiment       object            41157              5           0   \n",
              "\n",
              "               NaN_Values_Percentage  \n",
              "UserName                    0.000000  \n",
              "ScreenName                  0.000000  \n",
              "Location                   20.871298  \n",
              "TweetAt                     0.000000  \n",
              "OriginalTweet               0.000000  \n",
              "Sentiment                   0.000000  "
            ],
            "text/html": [
              "\n",
              "  <div id=\"df-c4a0e9c2-d583-4cbd-8216-2d0dc1658040\">\n",
              "    <div class=\"colab-df-container\">\n",
              "      <div>\n",
              "<style scoped>\n",
              "    .dataframe tbody tr th:only-of-type {\n",
              "        vertical-align: middle;\n",
              "    }\n",
              "\n",
              "    .dataframe tbody tr th {\n",
              "        vertical-align: top;\n",
              "    }\n",
              "\n",
              "    .dataframe thead th {\n",
              "        text-align: right;\n",
              "    }\n",
              "</style>\n",
              "<table border=\"1\" class=\"dataframe\">\n",
              "  <thead>\n",
              "    <tr style=\"text-align: right;\">\n",
              "      <th></th>\n",
              "      <th>DataType</th>\n",
              "      <th>Non-null_Values</th>\n",
              "      <th>Unique_Values</th>\n",
              "      <th>NaN_Values</th>\n",
              "      <th>NaN_Values_Percentage</th>\n",
              "    </tr>\n",
              "  </thead>\n",
              "  <tbody>\n",
              "    <tr>\n",
              "      <th>UserName</th>\n",
              "      <td>int64</td>\n",
              "      <td>41157</td>\n",
              "      <td>41157</td>\n",
              "      <td>0</td>\n",
              "      <td>0.000000</td>\n",
              "    </tr>\n",
              "    <tr>\n",
              "      <th>ScreenName</th>\n",
              "      <td>int64</td>\n",
              "      <td>41157</td>\n",
              "      <td>41157</td>\n",
              "      <td>0</td>\n",
              "      <td>0.000000</td>\n",
              "    </tr>\n",
              "    <tr>\n",
              "      <th>Location</th>\n",
              "      <td>object</td>\n",
              "      <td>32567</td>\n",
              "      <td>12220</td>\n",
              "      <td>8590</td>\n",
              "      <td>20.871298</td>\n",
              "    </tr>\n",
              "    <tr>\n",
              "      <th>TweetAt</th>\n",
              "      <td>object</td>\n",
              "      <td>41157</td>\n",
              "      <td>30</td>\n",
              "      <td>0</td>\n",
              "      <td>0.000000</td>\n",
              "    </tr>\n",
              "    <tr>\n",
              "      <th>OriginalTweet</th>\n",
              "      <td>object</td>\n",
              "      <td>41157</td>\n",
              "      <td>41157</td>\n",
              "      <td>0</td>\n",
              "      <td>0.000000</td>\n",
              "    </tr>\n",
              "    <tr>\n",
              "      <th>Sentiment</th>\n",
              "      <td>object</td>\n",
              "      <td>41157</td>\n",
              "      <td>5</td>\n",
              "      <td>0</td>\n",
              "      <td>0.000000</td>\n",
              "    </tr>\n",
              "  </tbody>\n",
              "</table>\n",
              "</div>\n",
              "      <button class=\"colab-df-convert\" onclick=\"convertToInteractive('df-c4a0e9c2-d583-4cbd-8216-2d0dc1658040')\"\n",
              "              title=\"Convert this dataframe to an interactive table.\"\n",
              "              style=\"display:none;\">\n",
              "        \n",
              "  <svg xmlns=\"http://www.w3.org/2000/svg\" height=\"24px\"viewBox=\"0 0 24 24\"\n",
              "       width=\"24px\">\n",
              "    <path d=\"M0 0h24v24H0V0z\" fill=\"none\"/>\n",
              "    <path d=\"M18.56 5.44l.94 2.06.94-2.06 2.06-.94-2.06-.94-.94-2.06-.94 2.06-2.06.94zm-11 1L8.5 8.5l.94-2.06 2.06-.94-2.06-.94L8.5 2.5l-.94 2.06-2.06.94zm10 10l.94 2.06.94-2.06 2.06-.94-2.06-.94-.94-2.06-.94 2.06-2.06.94z\"/><path d=\"M17.41 7.96l-1.37-1.37c-.4-.4-.92-.59-1.43-.59-.52 0-1.04.2-1.43.59L10.3 9.45l-7.72 7.72c-.78.78-.78 2.05 0 2.83L4 21.41c.39.39.9.59 1.41.59.51 0 1.02-.2 1.41-.59l7.78-7.78 2.81-2.81c.8-.78.8-2.07 0-2.86zM5.41 20L4 18.59l7.72-7.72 1.47 1.35L5.41 20z\"/>\n",
              "  </svg>\n",
              "      </button>\n",
              "      \n",
              "  <style>\n",
              "    .colab-df-container {\n",
              "      display:flex;\n",
              "      flex-wrap:wrap;\n",
              "      gap: 12px;\n",
              "    }\n",
              "\n",
              "    .colab-df-convert {\n",
              "      background-color: #E8F0FE;\n",
              "      border: none;\n",
              "      border-radius: 50%;\n",
              "      cursor: pointer;\n",
              "      display: none;\n",
              "      fill: #1967D2;\n",
              "      height: 32px;\n",
              "      padding: 0 0 0 0;\n",
              "      width: 32px;\n",
              "    }\n",
              "\n",
              "    .colab-df-convert:hover {\n",
              "      background-color: #E2EBFA;\n",
              "      box-shadow: 0px 1px 2px rgba(60, 64, 67, 0.3), 0px 1px 3px 1px rgba(60, 64, 67, 0.15);\n",
              "      fill: #174EA6;\n",
              "    }\n",
              "\n",
              "    [theme=dark] .colab-df-convert {\n",
              "      background-color: #3B4455;\n",
              "      fill: #D2E3FC;\n",
              "    }\n",
              "\n",
              "    [theme=dark] .colab-df-convert:hover {\n",
              "      background-color: #434B5C;\n",
              "      box-shadow: 0px 1px 3px 1px rgba(0, 0, 0, 0.15);\n",
              "      filter: drop-shadow(0px 1px 2px rgba(0, 0, 0, 0.3));\n",
              "      fill: #FFFFFF;\n",
              "    }\n",
              "  </style>\n",
              "\n",
              "      <script>\n",
              "        const buttonEl =\n",
              "          document.querySelector('#df-c4a0e9c2-d583-4cbd-8216-2d0dc1658040 button.colab-df-convert');\n",
              "        buttonEl.style.display =\n",
              "          google.colab.kernel.accessAllowed ? 'block' : 'none';\n",
              "\n",
              "        async function convertToInteractive(key) {\n",
              "          const element = document.querySelector('#df-c4a0e9c2-d583-4cbd-8216-2d0dc1658040');\n",
              "          const dataTable =\n",
              "            await google.colab.kernel.invokeFunction('convertToInteractive',\n",
              "                                                     [key], {});\n",
              "          if (!dataTable) return;\n",
              "\n",
              "          const docLinkHtml = 'Like what you see? Visit the ' +\n",
              "            '<a target=\"_blank\" href=https://colab.research.google.com/notebooks/data_table.ipynb>data table notebook</a>'\n",
              "            + ' to learn more about interactive tables.';\n",
              "          element.innerHTML = '';\n",
              "          dataTable['output_type'] = 'display_data';\n",
              "          await google.colab.output.renderOutput(dataTable, element);\n",
              "          const docLink = document.createElement('div');\n",
              "          docLink.innerHTML = docLinkHtml;\n",
              "          element.appendChild(docLink);\n",
              "        }\n",
              "      </script>\n",
              "    </div>\n",
              "  </div>\n",
              "  "
            ],
            "application/vnd.google.colaboratory.module+javascript": "\n      import \"https://ssl.gstatic.com/colaboratory/data_table/fb998edc550c7947/data_table.js\";\n\n      window.createDataTable({\n        data: [[\"UserName\",\n\"int64\",\n{\n            'v': 41157,\n            'f': \"41157\",\n        },\n{\n            'v': 41157,\n            'f': \"41157\",\n        },\n{\n            'v': 0,\n            'f': \"0\",\n        },\n{\n            'v': 0.0,\n            'f': \"0.0\",\n        }],\n [\"ScreenName\",\n\"int64\",\n{\n            'v': 41157,\n            'f': \"41157\",\n        },\n{\n            'v': 41157,\n            'f': \"41157\",\n        },\n{\n            'v': 0,\n            'f': \"0\",\n        },\n{\n            'v': 0.0,\n            'f': \"0.0\",\n        }],\n [\"Location\",\n\"object\",\n{\n            'v': 32567,\n            'f': \"32567\",\n        },\n{\n            'v': 12220,\n            'f': \"12220\",\n        },\n{\n            'v': 8590,\n            'f': \"8590\",\n        },\n{\n            'v': 20.87129771363316,\n            'f': \"20.87129771363316\",\n        }],\n [\"TweetAt\",\n\"object\",\n{\n            'v': 41157,\n            'f': \"41157\",\n        },\n{\n            'v': 30,\n            'f': \"30\",\n        },\n{\n            'v': 0,\n            'f': \"0\",\n        },\n{\n            'v': 0.0,\n            'f': \"0.0\",\n        }],\n [\"OriginalTweet\",\n\"object\",\n{\n            'v': 41157,\n            'f': \"41157\",\n        },\n{\n            'v': 41157,\n            'f': \"41157\",\n        },\n{\n            'v': 0,\n            'f': \"0\",\n        },\n{\n            'v': 0.0,\n            'f': \"0.0\",\n        }],\n [\"Sentiment\",\n\"object\",\n{\n            'v': 41157,\n            'f': \"41157\",\n        },\n{\n            'v': 5,\n            'f': \"5\",\n        },\n{\n            'v': 0,\n            'f': \"0\",\n        },\n{\n            'v': 0.0,\n            'f': \"0.0\",\n        }]],\n        columns: [[\"string\", \"index\"], [\"string\", \"DataType\"], [\"number\", \"Non-null_Values\"], [\"number\", \"Unique_Values\"], [\"number\", \"NaN_Values\"], [\"number\", \"NaN_Values_Percentage\"]],\n        columnOptions: [{\"width\": \"1px\", \"className\": \"index_column\"}],\n        rowsPerPage: 25,\n        helpUrl: \"https://colab.research.google.com/notebooks/data_table.ipynb\",\n        suppressOutputScrolling: true,\n        minimumWidth: undefined,\n      });\n    "
          },
          "metadata": {},
          "execution_count": 8
        }
      ]
    },
    {
      "cell_type": "markdown",
      "source": [
        "Here are some statistics for the numerical columns:"
      ],
      "metadata": {
        "id": "bLU5MUGx1NPI"
      }
    },
    {
      "cell_type": "code",
      "source": [
        "\n",
        "# statistics info\n",
        "data.describe(include='all').T"
      ],
      "metadata": {
        "colab": {
          "base_uri": "https://localhost:8080/",
          "height": 234
        },
        "id": "7ocUnbJp09uK",
        "outputId": "cec1778a-92bf-40cb-e7d2-535883946e0b"
      },
      "execution_count": 9,
      "outputs": [
        {
          "output_type": "execute_result",
          "data": {
            "text/plain": [
              "                 count unique  \\\n",
              "UserName       41157.0    NaN   \n",
              "ScreenName     41157.0    NaN   \n",
              "Location         32567  12220   \n",
              "TweetAt          41157     30   \n",
              "OriginalTweet    41157  41157   \n",
              "Sentiment        41157      5   \n",
              "\n",
              "                                                             top   freq  \\\n",
              "UserName                                                     NaN    NaN   \n",
              "ScreenName                                                   NaN    NaN   \n",
              "Location                                                  London    540   \n",
              "TweetAt                                               20-03-2020   3448   \n",
              "OriginalTweet  @MeNyrbie @Phil_Gahan @Chrisitv https://t.co/i...      1   \n",
              "Sentiment                                               Positive  11422   \n",
              "\n",
              "                  mean           std      min      25%      50%      75%  \\\n",
              "UserName       24377.0  11881.146851   3799.0  14088.0  24377.0  34666.0   \n",
              "ScreenName     69329.0  11881.146851  48751.0  59040.0  69329.0  79618.0   \n",
              "Location           NaN           NaN      NaN      NaN      NaN      NaN   \n",
              "TweetAt            NaN           NaN      NaN      NaN      NaN      NaN   \n",
              "OriginalTweet      NaN           NaN      NaN      NaN      NaN      NaN   \n",
              "Sentiment          NaN           NaN      NaN      NaN      NaN      NaN   \n",
              "\n",
              "                   max  \n",
              "UserName       44955.0  \n",
              "ScreenName     89907.0  \n",
              "Location           NaN  \n",
              "TweetAt            NaN  \n",
              "OriginalTweet      NaN  \n",
              "Sentiment          NaN  "
            ],
            "text/html": [
              "\n",
              "  <div id=\"df-765056a3-eb75-4a4d-85d3-fa7bf46f4484\">\n",
              "    <div class=\"colab-df-container\">\n",
              "      <div>\n",
              "<style scoped>\n",
              "    .dataframe tbody tr th:only-of-type {\n",
              "        vertical-align: middle;\n",
              "    }\n",
              "\n",
              "    .dataframe tbody tr th {\n",
              "        vertical-align: top;\n",
              "    }\n",
              "\n",
              "    .dataframe thead th {\n",
              "        text-align: right;\n",
              "    }\n",
              "</style>\n",
              "<table border=\"1\" class=\"dataframe\">\n",
              "  <thead>\n",
              "    <tr style=\"text-align: right;\">\n",
              "      <th></th>\n",
              "      <th>count</th>\n",
              "      <th>unique</th>\n",
              "      <th>top</th>\n",
              "      <th>freq</th>\n",
              "      <th>mean</th>\n",
              "      <th>std</th>\n",
              "      <th>min</th>\n",
              "      <th>25%</th>\n",
              "      <th>50%</th>\n",
              "      <th>75%</th>\n",
              "      <th>max</th>\n",
              "    </tr>\n",
              "  </thead>\n",
              "  <tbody>\n",
              "    <tr>\n",
              "      <th>UserName</th>\n",
              "      <td>41157.0</td>\n",
              "      <td>NaN</td>\n",
              "      <td>NaN</td>\n",
              "      <td>NaN</td>\n",
              "      <td>24377.0</td>\n",
              "      <td>11881.146851</td>\n",
              "      <td>3799.0</td>\n",
              "      <td>14088.0</td>\n",
              "      <td>24377.0</td>\n",
              "      <td>34666.0</td>\n",
              "      <td>44955.0</td>\n",
              "    </tr>\n",
              "    <tr>\n",
              "      <th>ScreenName</th>\n",
              "      <td>41157.0</td>\n",
              "      <td>NaN</td>\n",
              "      <td>NaN</td>\n",
              "      <td>NaN</td>\n",
              "      <td>69329.0</td>\n",
              "      <td>11881.146851</td>\n",
              "      <td>48751.0</td>\n",
              "      <td>59040.0</td>\n",
              "      <td>69329.0</td>\n",
              "      <td>79618.0</td>\n",
              "      <td>89907.0</td>\n",
              "    </tr>\n",
              "    <tr>\n",
              "      <th>Location</th>\n",
              "      <td>32567</td>\n",
              "      <td>12220</td>\n",
              "      <td>London</td>\n",
              "      <td>540</td>\n",
              "      <td>NaN</td>\n",
              "      <td>NaN</td>\n",
              "      <td>NaN</td>\n",
              "      <td>NaN</td>\n",
              "      <td>NaN</td>\n",
              "      <td>NaN</td>\n",
              "      <td>NaN</td>\n",
              "    </tr>\n",
              "    <tr>\n",
              "      <th>TweetAt</th>\n",
              "      <td>41157</td>\n",
              "      <td>30</td>\n",
              "      <td>20-03-2020</td>\n",
              "      <td>3448</td>\n",
              "      <td>NaN</td>\n",
              "      <td>NaN</td>\n",
              "      <td>NaN</td>\n",
              "      <td>NaN</td>\n",
              "      <td>NaN</td>\n",
              "      <td>NaN</td>\n",
              "      <td>NaN</td>\n",
              "    </tr>\n",
              "    <tr>\n",
              "      <th>OriginalTweet</th>\n",
              "      <td>41157</td>\n",
              "      <td>41157</td>\n",
              "      <td>@MeNyrbie @Phil_Gahan @Chrisitv https://t.co/i...</td>\n",
              "      <td>1</td>\n",
              "      <td>NaN</td>\n",
              "      <td>NaN</td>\n",
              "      <td>NaN</td>\n",
              "      <td>NaN</td>\n",
              "      <td>NaN</td>\n",
              "      <td>NaN</td>\n",
              "      <td>NaN</td>\n",
              "    </tr>\n",
              "    <tr>\n",
              "      <th>Sentiment</th>\n",
              "      <td>41157</td>\n",
              "      <td>5</td>\n",
              "      <td>Positive</td>\n",
              "      <td>11422</td>\n",
              "      <td>NaN</td>\n",
              "      <td>NaN</td>\n",
              "      <td>NaN</td>\n",
              "      <td>NaN</td>\n",
              "      <td>NaN</td>\n",
              "      <td>NaN</td>\n",
              "      <td>NaN</td>\n",
              "    </tr>\n",
              "  </tbody>\n",
              "</table>\n",
              "</div>\n",
              "      <button class=\"colab-df-convert\" onclick=\"convertToInteractive('df-765056a3-eb75-4a4d-85d3-fa7bf46f4484')\"\n",
              "              title=\"Convert this dataframe to an interactive table.\"\n",
              "              style=\"display:none;\">\n",
              "        \n",
              "  <svg xmlns=\"http://www.w3.org/2000/svg\" height=\"24px\"viewBox=\"0 0 24 24\"\n",
              "       width=\"24px\">\n",
              "    <path d=\"M0 0h24v24H0V0z\" fill=\"none\"/>\n",
              "    <path d=\"M18.56 5.44l.94 2.06.94-2.06 2.06-.94-2.06-.94-.94-2.06-.94 2.06-2.06.94zm-11 1L8.5 8.5l.94-2.06 2.06-.94-2.06-.94L8.5 2.5l-.94 2.06-2.06.94zm10 10l.94 2.06.94-2.06 2.06-.94-2.06-.94-.94-2.06-.94 2.06-2.06.94z\"/><path d=\"M17.41 7.96l-1.37-1.37c-.4-.4-.92-.59-1.43-.59-.52 0-1.04.2-1.43.59L10.3 9.45l-7.72 7.72c-.78.78-.78 2.05 0 2.83L4 21.41c.39.39.9.59 1.41.59.51 0 1.02-.2 1.41-.59l7.78-7.78 2.81-2.81c.8-.78.8-2.07 0-2.86zM5.41 20L4 18.59l7.72-7.72 1.47 1.35L5.41 20z\"/>\n",
              "  </svg>\n",
              "      </button>\n",
              "      \n",
              "  <style>\n",
              "    .colab-df-container {\n",
              "      display:flex;\n",
              "      flex-wrap:wrap;\n",
              "      gap: 12px;\n",
              "    }\n",
              "\n",
              "    .colab-df-convert {\n",
              "      background-color: #E8F0FE;\n",
              "      border: none;\n",
              "      border-radius: 50%;\n",
              "      cursor: pointer;\n",
              "      display: none;\n",
              "      fill: #1967D2;\n",
              "      height: 32px;\n",
              "      padding: 0 0 0 0;\n",
              "      width: 32px;\n",
              "    }\n",
              "\n",
              "    .colab-df-convert:hover {\n",
              "      background-color: #E2EBFA;\n",
              "      box-shadow: 0px 1px 2px rgba(60, 64, 67, 0.3), 0px 1px 3px 1px rgba(60, 64, 67, 0.15);\n",
              "      fill: #174EA6;\n",
              "    }\n",
              "\n",
              "    [theme=dark] .colab-df-convert {\n",
              "      background-color: #3B4455;\n",
              "      fill: #D2E3FC;\n",
              "    }\n",
              "\n",
              "    [theme=dark] .colab-df-convert:hover {\n",
              "      background-color: #434B5C;\n",
              "      box-shadow: 0px 1px 3px 1px rgba(0, 0, 0, 0.15);\n",
              "      filter: drop-shadow(0px 1px 2px rgba(0, 0, 0, 0.3));\n",
              "      fill: #FFFFFF;\n",
              "    }\n",
              "  </style>\n",
              "\n",
              "      <script>\n",
              "        const buttonEl =\n",
              "          document.querySelector('#df-765056a3-eb75-4a4d-85d3-fa7bf46f4484 button.colab-df-convert');\n",
              "        buttonEl.style.display =\n",
              "          google.colab.kernel.accessAllowed ? 'block' : 'none';\n",
              "\n",
              "        async function convertToInteractive(key) {\n",
              "          const element = document.querySelector('#df-765056a3-eb75-4a4d-85d3-fa7bf46f4484');\n",
              "          const dataTable =\n",
              "            await google.colab.kernel.invokeFunction('convertToInteractive',\n",
              "                                                     [key], {});\n",
              "          if (!dataTable) return;\n",
              "\n",
              "          const docLinkHtml = 'Like what you see? Visit the ' +\n",
              "            '<a target=\"_blank\" href=https://colab.research.google.com/notebooks/data_table.ipynb>data table notebook</a>'\n",
              "            + ' to learn more about interactive tables.';\n",
              "          element.innerHTML = '';\n",
              "          dataTable['output_type'] = 'display_data';\n",
              "          await google.colab.output.renderOutput(dataTable, element);\n",
              "          const docLink = document.createElement('div');\n",
              "          docLink.innerHTML = docLinkHtml;\n",
              "          element.appendChild(docLink);\n",
              "        }\n",
              "      </script>\n",
              "    </div>\n",
              "  </div>\n",
              "  "
            ],
            "application/vnd.google.colaboratory.module+javascript": "\n      import \"https://ssl.gstatic.com/colaboratory/data_table/fb998edc550c7947/data_table.js\";\n\n      window.createDataTable({\n        data: [[\"UserName\",\n{\n            'v': 41157.0,\n            'f': \"41157.0\",\n        },\n{\n            'v': NaN,\n            'f': \"NaN\",\n        },\nNaN,\n{\n            'v': NaN,\n            'f': \"NaN\",\n        },\n{\n            'v': 24377.0,\n            'f': \"24377.0\",\n        },\n{\n            'v': 11881.146851209272,\n            'f': \"11881.146851209272\",\n        },\n{\n            'v': 3799.0,\n            'f': \"3799.0\",\n        },\n{\n            'v': 14088.0,\n            'f': \"14088.0\",\n        },\n{\n            'v': 24377.0,\n            'f': \"24377.0\",\n        },\n{\n            'v': 34666.0,\n            'f': \"34666.0\",\n        },\n{\n            'v': 44955.0,\n            'f': \"44955.0\",\n        }],\n [\"ScreenName\",\n{\n            'v': 41157.0,\n            'f': \"41157.0\",\n        },\n{\n            'v': NaN,\n            'f': \"NaN\",\n        },\nNaN,\n{\n            'v': NaN,\n            'f': \"NaN\",\n        },\n{\n            'v': 69329.0,\n            'f': \"69329.0\",\n        },\n{\n            'v': 11881.146851209272,\n            'f': \"11881.146851209272\",\n        },\n{\n            'v': 48751.0,\n            'f': \"48751.0\",\n        },\n{\n            'v': 59040.0,\n            'f': \"59040.0\",\n        },\n{\n            'v': 69329.0,\n            'f': \"69329.0\",\n        },\n{\n            'v': 79618.0,\n            'f': \"79618.0\",\n        },\n{\n            'v': 89907.0,\n            'f': \"89907.0\",\n        }],\n [\"Location\",\n{\n            'v': 32567,\n            'f': \"32567\",\n        },\n{\n            'v': 12220,\n            'f': \"12220\",\n        },\n\"London\",\n{\n            'v': 540,\n            'f': \"540\",\n        },\n{\n            'v': NaN,\n            'f': \"NaN\",\n        },\n{\n            'v': NaN,\n            'f': \"NaN\",\n        },\n{\n            'v': NaN,\n            'f': \"NaN\",\n        },\n{\n            'v': NaN,\n            'f': \"NaN\",\n        },\n{\n            'v': NaN,\n            'f': \"NaN\",\n        },\n{\n            'v': NaN,\n            'f': \"NaN\",\n        },\n{\n            'v': NaN,\n            'f': \"NaN\",\n        }],\n [\"TweetAt\",\n{\n            'v': 41157,\n            'f': \"41157\",\n        },\n{\n            'v': 30,\n            'f': \"30\",\n        },\n\"20-03-2020\",\n{\n            'v': 3448,\n            'f': \"3448\",\n        },\n{\n            'v': NaN,\n            'f': \"NaN\",\n        },\n{\n            'v': NaN,\n            'f': \"NaN\",\n        },\n{\n            'v': NaN,\n            'f': \"NaN\",\n        },\n{\n            'v': NaN,\n            'f': \"NaN\",\n        },\n{\n            'v': NaN,\n            'f': \"NaN\",\n        },\n{\n            'v': NaN,\n            'f': \"NaN\",\n        },\n{\n            'v': NaN,\n            'f': \"NaN\",\n        }],\n [\"OriginalTweet\",\n{\n            'v': 41157,\n            'f': \"41157\",\n        },\n{\n            'v': 41157,\n            'f': \"41157\",\n        },\n\"@MeNyrbie @Phil_Gahan @Chrisitv https://t.co/iFz9FAn2Pa and https://t.co/xX6ghGFzCC and https://t.co/I2NlzdxNo8\",\n{\n            'v': 1,\n            'f': \"1\",\n        },\n{\n            'v': NaN,\n            'f': \"NaN\",\n        },\n{\n            'v': NaN,\n            'f': \"NaN\",\n        },\n{\n            'v': NaN,\n            'f': \"NaN\",\n        },\n{\n            'v': NaN,\n            'f': \"NaN\",\n        },\n{\n            'v': NaN,\n            'f': \"NaN\",\n        },\n{\n            'v': NaN,\n            'f': \"NaN\",\n        },\n{\n            'v': NaN,\n            'f': \"NaN\",\n        }],\n [\"Sentiment\",\n{\n            'v': 41157,\n            'f': \"41157\",\n        },\n{\n            'v': 5,\n            'f': \"5\",\n        },\n\"Positive\",\n{\n            'v': 11422,\n            'f': \"11422\",\n        },\n{\n            'v': NaN,\n            'f': \"NaN\",\n        },\n{\n            'v': NaN,\n            'f': \"NaN\",\n        },\n{\n            'v': NaN,\n            'f': \"NaN\",\n        },\n{\n            'v': NaN,\n            'f': \"NaN\",\n        },\n{\n            'v': NaN,\n            'f': \"NaN\",\n        },\n{\n            'v': NaN,\n            'f': \"NaN\",\n        },\n{\n            'v': NaN,\n            'f': \"NaN\",\n        }]],\n        columns: [[\"string\", \"index\"], [\"number\", \"count\"], [\"number\", \"unique\"], [\"string\", \"top\"], [\"number\", \"freq\"], [\"number\", \"mean\"], [\"number\", \"std\"], [\"number\", \"min\"], [\"number\", \"25%\"], [\"number\", \"50%\"], [\"number\", \"75%\"], [\"number\", \"max\"]],\n        columnOptions: [{\"width\": \"1px\", \"className\": \"index_column\"}],\n        rowsPerPage: 25,\n        helpUrl: \"https://colab.research.google.com/notebooks/data_table.ipynb\",\n        suppressOutputScrolling: true,\n        minimumWidth: undefined,\n      });\n    "
          },
          "metadata": {},
          "execution_count": 9
        }
      ]
    },
    {
      "cell_type": "code",
      "source": [
        "# dataset contain Text data so its better to convert it into string \n",
        "data['OriginalTweet']=data['OriginalTweet'].astype(str)\n",
        "data['Sentiment']=data['Sentiment'].astype(str)"
      ],
      "metadata": {
        "id": "jlkch2S41Qte"
      },
      "execution_count": 10,
      "outputs": []
    },
    {
      "cell_type": "markdown",
      "source": [
        "# STEP 1 : Exploratory Data Analysis"
      ],
      "metadata": {
        "id": "-bHBRvRo1oEX"
      }
    },
    {
      "cell_type": "markdown",
      "source": [
        "Let's explore the data by visualizing the distribution of values in some columns of the dataset, and the relationships between \"charges\" and other columns."
      ],
      "metadata": {
        "id": "rnscRLCO1zZL"
      }
    },
    {
      "cell_type": "code",
      "source": [
        "\n",
        "# Separate dataframe for EDA\n",
        "data_E=data.copy()\n"
      ],
      "metadata": {
        "id": "nOhK9zGh1miB"
      },
      "execution_count": 11,
      "outputs": []
    },
    {
      "cell_type": "markdown",
      "source": [
        "**Missing Values**"
      ],
      "metadata": {
        "id": "sG5p-Rjy2fkp"
      }
    },
    {
      "cell_type": "code",
      "source": [
        "# 1 -step make the list of features which has missing values\n",
        "feature_with_na=[feature for feature in data_E.columns if data_E[feature].isnull().sum()>1]\n",
        "# 2- step print the feature name and the percentage of missing values\n",
        "for feature in feature_with_na:\n",
        "  print(feature, np.round(data_E[feature].isnull().mean(), 4)*100,  \" % missing values\")"
      ],
      "metadata": {
        "colab": {
          "base_uri": "https://localhost:8080/"
        },
        "id": "Zt4fMCfV18_f",
        "outputId": "bf585603-572c-41a4-cfbf-d900be1c2547"
      },
      "execution_count": 12,
      "outputs": [
        {
          "output_type": "stream",
          "name": "stdout",
          "text": [
            "Location 20.87  % missing values\n"
          ]
        }
      ]
    },
    {
      "cell_type": "code",
      "source": [
        "# Data has 5 clases of Sentiments,convert them into 3\n",
        "def classes_con(x):\n",
        "\n",
        "  if x == 'Extremely Positive':\n",
        "    return \"Positive\"\n",
        "  if x == 'Positive':\n",
        "    return \"Positive\"   \n",
        "  elif x == \"'Extremely Negative\":\n",
        "    return \"Negative\"  \n",
        "  elif x == \"Negative\":  \n",
        "    return \"Negative\"  \n",
        "  else:\n",
        "    return \"Neutral\" \n",
        "\n",
        "data_E[\"Sentiment\"]=data_E[\"Sentiment\"].apply(lambda x:classes_con(x))    \n",
        "\n",
        "data_E.Sentiment.value_counts()"
      ],
      "metadata": {
        "colab": {
          "base_uri": "https://localhost:8080/"
        },
        "id": "La7zpIJQ3rJu",
        "outputId": "39e3109f-3755-4c06-b389-fb39ccff1e97"
      },
      "execution_count": 13,
      "outputs": [
        {
          "output_type": "execute_result",
          "data": {
            "text/plain": [
              "Positive    18046\n",
              "Neutral     13194\n",
              "Negative     9917\n",
              "Name: Sentiment, dtype: int64"
            ]
          },
          "metadata": {},
          "execution_count": 13
        }
      ]
    },
    {
      "cell_type": "markdown",
      "source": [
        "***Sentiment Analysis***"
      ],
      "metadata": {
        "id": "KEjgiUgO4E0N"
      }
    },
    {
      "cell_type": "code",
      "source": [
        "analysis_1= data_E.groupby(\"Sentiment\").count()['OriginalTweet'].reset_index().sort_values(by='OriginalTweet',ascending=False)\n",
        "analysis_1"
      ],
      "metadata": {
        "colab": {
          "base_uri": "https://localhost:8080/",
          "height": 153
        },
        "id": "rLElY7_i3zq_",
        "outputId": "778ede80-6533-4c56-b526-c3fb309888be"
      },
      "execution_count": 14,
      "outputs": [
        {
          "output_type": "execute_result",
          "data": {
            "text/plain": [
              "  Sentiment  OriginalTweet\n",
              "2  Positive          18046\n",
              "1   Neutral          13194\n",
              "0  Negative           9917"
            ],
            "text/html": [
              "\n",
              "  <div id=\"df-5b7ab1df-ca29-4652-a82b-88d3886f0bcd\">\n",
              "    <div class=\"colab-df-container\">\n",
              "      <div>\n",
              "<style scoped>\n",
              "    .dataframe tbody tr th:only-of-type {\n",
              "        vertical-align: middle;\n",
              "    }\n",
              "\n",
              "    .dataframe tbody tr th {\n",
              "        vertical-align: top;\n",
              "    }\n",
              "\n",
              "    .dataframe thead th {\n",
              "        text-align: right;\n",
              "    }\n",
              "</style>\n",
              "<table border=\"1\" class=\"dataframe\">\n",
              "  <thead>\n",
              "    <tr style=\"text-align: right;\">\n",
              "      <th></th>\n",
              "      <th>Sentiment</th>\n",
              "      <th>OriginalTweet</th>\n",
              "    </tr>\n",
              "  </thead>\n",
              "  <tbody>\n",
              "    <tr>\n",
              "      <th>2</th>\n",
              "      <td>Positive</td>\n",
              "      <td>18046</td>\n",
              "    </tr>\n",
              "    <tr>\n",
              "      <th>1</th>\n",
              "      <td>Neutral</td>\n",
              "      <td>13194</td>\n",
              "    </tr>\n",
              "    <tr>\n",
              "      <th>0</th>\n",
              "      <td>Negative</td>\n",
              "      <td>9917</td>\n",
              "    </tr>\n",
              "  </tbody>\n",
              "</table>\n",
              "</div>\n",
              "      <button class=\"colab-df-convert\" onclick=\"convertToInteractive('df-5b7ab1df-ca29-4652-a82b-88d3886f0bcd')\"\n",
              "              title=\"Convert this dataframe to an interactive table.\"\n",
              "              style=\"display:none;\">\n",
              "        \n",
              "  <svg xmlns=\"http://www.w3.org/2000/svg\" height=\"24px\"viewBox=\"0 0 24 24\"\n",
              "       width=\"24px\">\n",
              "    <path d=\"M0 0h24v24H0V0z\" fill=\"none\"/>\n",
              "    <path d=\"M18.56 5.44l.94 2.06.94-2.06 2.06-.94-2.06-.94-.94-2.06-.94 2.06-2.06.94zm-11 1L8.5 8.5l.94-2.06 2.06-.94-2.06-.94L8.5 2.5l-.94 2.06-2.06.94zm10 10l.94 2.06.94-2.06 2.06-.94-2.06-.94-.94-2.06-.94 2.06-2.06.94z\"/><path d=\"M17.41 7.96l-1.37-1.37c-.4-.4-.92-.59-1.43-.59-.52 0-1.04.2-1.43.59L10.3 9.45l-7.72 7.72c-.78.78-.78 2.05 0 2.83L4 21.41c.39.39.9.59 1.41.59.51 0 1.02-.2 1.41-.59l7.78-7.78 2.81-2.81c.8-.78.8-2.07 0-2.86zM5.41 20L4 18.59l7.72-7.72 1.47 1.35L5.41 20z\"/>\n",
              "  </svg>\n",
              "      </button>\n",
              "      \n",
              "  <style>\n",
              "    .colab-df-container {\n",
              "      display:flex;\n",
              "      flex-wrap:wrap;\n",
              "      gap: 12px;\n",
              "    }\n",
              "\n",
              "    .colab-df-convert {\n",
              "      background-color: #E8F0FE;\n",
              "      border: none;\n",
              "      border-radius: 50%;\n",
              "      cursor: pointer;\n",
              "      display: none;\n",
              "      fill: #1967D2;\n",
              "      height: 32px;\n",
              "      padding: 0 0 0 0;\n",
              "      width: 32px;\n",
              "    }\n",
              "\n",
              "    .colab-df-convert:hover {\n",
              "      background-color: #E2EBFA;\n",
              "      box-shadow: 0px 1px 2px rgba(60, 64, 67, 0.3), 0px 1px 3px 1px rgba(60, 64, 67, 0.15);\n",
              "      fill: #174EA6;\n",
              "    }\n",
              "\n",
              "    [theme=dark] .colab-df-convert {\n",
              "      background-color: #3B4455;\n",
              "      fill: #D2E3FC;\n",
              "    }\n",
              "\n",
              "    [theme=dark] .colab-df-convert:hover {\n",
              "      background-color: #434B5C;\n",
              "      box-shadow: 0px 1px 3px 1px rgba(0, 0, 0, 0.15);\n",
              "      filter: drop-shadow(0px 1px 2px rgba(0, 0, 0, 0.3));\n",
              "      fill: #FFFFFF;\n",
              "    }\n",
              "  </style>\n",
              "\n",
              "      <script>\n",
              "        const buttonEl =\n",
              "          document.querySelector('#df-5b7ab1df-ca29-4652-a82b-88d3886f0bcd button.colab-df-convert');\n",
              "        buttonEl.style.display =\n",
              "          google.colab.kernel.accessAllowed ? 'block' : 'none';\n",
              "\n",
              "        async function convertToInteractive(key) {\n",
              "          const element = document.querySelector('#df-5b7ab1df-ca29-4652-a82b-88d3886f0bcd');\n",
              "          const dataTable =\n",
              "            await google.colab.kernel.invokeFunction('convertToInteractive',\n",
              "                                                     [key], {});\n",
              "          if (!dataTable) return;\n",
              "\n",
              "          const docLinkHtml = 'Like what you see? Visit the ' +\n",
              "            '<a target=\"_blank\" href=https://colab.research.google.com/notebooks/data_table.ipynb>data table notebook</a>'\n",
              "            + ' to learn more about interactive tables.';\n",
              "          element.innerHTML = '';\n",
              "          dataTable['output_type'] = 'display_data';\n",
              "          await google.colab.output.renderOutput(dataTable, element);\n",
              "          const docLink = document.createElement('div');\n",
              "          docLink.innerHTML = docLinkHtml;\n",
              "          element.appendChild(docLink);\n",
              "        }\n",
              "      </script>\n",
              "    </div>\n",
              "  </div>\n",
              "  "
            ],
            "application/vnd.google.colaboratory.module+javascript": "\n      import \"https://ssl.gstatic.com/colaboratory/data_table/fb998edc550c7947/data_table.js\";\n\n      window.createDataTable({\n        data: [[{\n            'v': 2,\n            'f': \"2\",\n        },\n\"Positive\",\n{\n            'v': 18046,\n            'f': \"18046\",\n        }],\n [{\n            'v': 1,\n            'f': \"1\",\n        },\n\"Neutral\",\n{\n            'v': 13194,\n            'f': \"13194\",\n        }],\n [{\n            'v': 0,\n            'f': \"0\",\n        },\n\"Negative\",\n{\n            'v': 9917,\n            'f': \"9917\",\n        }]],\n        columns: [[\"number\", \"index\"], [\"string\", \"Sentiment\"], [\"number\", \"OriginalTweet\"]],\n        columnOptions: [{\"width\": \"1px\", \"className\": \"index_column\"}],\n        rowsPerPage: 25,\n        helpUrl: \"https://colab.research.google.com/notebooks/data_table.ipynb\",\n        suppressOutputScrolling: true,\n        minimumWidth: undefined,\n      });\n    "
          },
          "metadata": {},
          "execution_count": 14
        }
      ]
    },
    {
      "cell_type": "code",
      "source": [
        "# count plot on Sentiment categorical variable\n",
        "percent_class = analysis_1['OriginalTweet']\n",
        "labels= analysis_1.Sentiment\n",
        "colors = ['#17C37B','#F92969','#FACA0C']\n",
        "fig=plt.pie(percent_class,labels=labels,colors=colors,autopct=\"%.1f%%\",radius =1.2)"
      ],
      "metadata": {
        "colab": {
          "base_uri": "https://localhost:8080/",
          "height": 257
        },
        "id": "jbJRJxCV4O_7",
        "outputId": "754883be-d5b2-40ca-971a-6387e130de74"
      },
      "execution_count": 15,
      "outputs": [
        {
          "output_type": "display_data",
          "data": {
            "text/plain": [
              "<Figure size 432x288 with 1 Axes>"
            ],
            "image/png": "[encoded data removed]"
          },
          "metadata": {}
        }
      ]
    },
    {
      "cell_type": "code",
      "source": [
        "\n",
        "# ploting countplot for \"Sentiment\" column\n",
        "plt.figure(figsize=(10,6))\n",
        "plt.style.use(\"fivethirtyeight\")\n",
        "sns.countplot('Sentiment',data=data_E,order=data_E.Sentiment.value_counts().index,palette = ['#17C37B','#F92969','#FACA0C'])\n",
        "plt.xlabel(\"Sentiment-------------->\", fontsize=15)\n",
        "plt.ylabel(\"Count-------------->\", fontsize=15)\n",
        "plt.xticks(rotation=90)\n",
        "plt.show();"
      ],
      "metadata": {
        "colab": {
          "base_uri": "https://localhost:8080/",
          "height": 443
        },
        "id": "SWq65wNV5DNg",
        "outputId": "9ec32ba8-2733-4e0c-9559-45c5297b022b"
      },
      "execution_count": 16,
      "outputs": [
        {
          "output_type": "display_data",
          "data": {
            "text/plain": [
              "<Figure size 720x432 with 1 Axes>"
            ],
            "image/png": "[encoded data removed]"
          },
          "metadata": {
            "needs_background": "light"
          }
        }
      ]
    },
    {
      "cell_type": "markdown",
      "source": [
        "Number of characters"
      ],
      "metadata": {
        "id": "mPOGIc4t7s-1"
      }
    },
    {
      "cell_type": "code",
      "source": [
        "# Histogram\n",
        "fig,(ax1,ax2,ax3)=plt.subplots(1,3,figsize=(15,5))\n",
        "\n",
        "# Histogram for Positive Sentiments\n",
        "tweet_len= data_E[data_E['Sentiment'] == \"Positive\"][\"OriginalTweet\"].str.len()\n",
        "ax1.hist(tweet_len,color='#17C37B')\n",
        "ax1.set_title('Positive Sentimentss')\n",
        "\n",
        "# Histogram for Negative Sentiments\n",
        "tweet_len=data_E[data_E['Sentiment']==\"Negative\"]['OriginalTweet'].str.len()\n",
        "ax2.hist(tweet_len,color='#F92969')\n",
        "ax2.set_title('Negative Sentimentss')\n",
        "\n",
        "# Histogram for Neutral Sentiments\n",
        "tweet_len=data_E[data_E['Sentiment']==\"Neutral\"]['OriginalTweet'].str.len()\n",
        "ax3.hist(tweet_len,color='#FACA0C')\n",
        "ax3.set_title('Neutral Sentimentss')\n",
        "\n",
        "fig.suptitle('Characters in tweets')\n",
        "plt.show()\n",
        "     "
      ],
      "metadata": {
        "colab": {
          "base_uri": "https://localhost:8080/",
          "height": 376
        },
        "id": "3_8cYIMA7cB2",
        "outputId": "61f03fc8-55e2-490d-cc19-278a255f0e72"
      },
      "execution_count": 17,
      "outputs": [
        {
          "output_type": "display_data",
          "data": {
            "text/plain": [
              "<Figure size 1080x360 with 3 Axes>"
            ],
            "image/png": "[encoded data removed]"
          },
          "metadata": {}
        }
      ]
    },
    {
      "cell_type": "markdown",
      "source": [
        "Number of words in a Tweet"
      ],
      "metadata": {
        "id": "nEgqdFrx8ydx"
      }
    },
    {
      "cell_type": "code",
      "source": [
        "fig,(ax1,ax2,ax3)=plt.subplots(1,3,figsize=(15,5))\n",
        "plt.style.use('seaborn')\n",
        "# Histogram for Positive Sentiments\n",
        "tweet=data_E[data_E['Sentiment']==\"Positive\"]['OriginalTweet'].str.split().map(lambda x: len(x))\n",
        "ax1.hist(tweet,color='#17C37B')\n",
        "ax1.set_title('Positive Sentiments')\n",
        "\n",
        "# Histogram for Negative Sentiments\n",
        "tweet=data_E[data_E['Sentiment']==\"Negative\"]['OriginalTweet'].str.split().map(lambda x: len(x))\n",
        "ax2.hist(tweet,color='#F92969')\n",
        "ax2.set_title('Negative Sentiments')\n",
        "\n",
        "# Histogram for Neutral Sentiments\n",
        "tweet=data_E[data_E['Sentiment']==\"Neutral\"]['OriginalTweet'].str.split().map(lambda x: len(x))\n",
        "ax3.hist(tweet,color='#FACA0C')\n",
        "ax3.set_title('Neutral Sentiments')\n",
        "\n",
        "fig.suptitle('Words in a tweet')\n",
        "plt.show()\n",
        "     "
      ],
      "metadata": {
        "colab": {
          "base_uri": "https://localhost:8080/",
          "height": 376
        },
        "id": "h2TBB0km71ul",
        "outputId": "f38e1044-a4b4-42ac-87c1-c62231c565ee"
      },
      "execution_count": 18,
      "outputs": [
        {
          "output_type": "display_data",
          "data": {
            "text/plain": [
              "<Figure size 1080x360 with 3 Axes>"
            ],
            "image/png": "[encoded data removed]"
          },
          "metadata": {}
        }
      ]
    },
    {
      "cell_type": "code",
      "source": [],
      "metadata": {
        "id": "IWK4S4J587QA"
      },
      "execution_count": null,
      "outputs": []
    }
  ]
}